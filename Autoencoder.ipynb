{
 "cells": [
  {
   "cell_type": "markdown",
   "id": "5f837a3e",
   "metadata": {},
   "source": [
    "# Import libraries"
   ]
  },
  {
   "cell_type": "code",
   "execution_count": 1,
   "id": "918f8276",
   "metadata": {},
   "outputs": [],
   "source": [
    "from keras.layers import Input, Dense \n",
    "from keras.models import Model\n",
    "from keras.datasets import mnist\n",
    "\n",
    "import numpy as np \n",
    "import matplotlib.pyplot as plt"
   ]
  },
  {
   "cell_type": "markdown",
   "id": "93cec5aa",
   "metadata": {},
   "source": [
    "# Download MNIST data"
   ]
  },
  {
   "cell_type": "code",
   "execution_count": 2,
   "id": "3fd301c9",
   "metadata": {},
   "outputs": [
    {
     "name": "stdout",
     "output_type": "stream",
     "text": [
      "(60000, 28, 28)\n",
      "(10000, 28, 28)\n"
     ]
    }
   ],
   "source": [
    "(X_train, y_train), (x_test, y_test) = mnist.load_data()\n",
    "print(X_train.shape)\n",
    "print(x_test.shape)"
   ]
  },
  {
   "cell_type": "markdown",
   "id": "f312bef3",
   "metadata": {},
   "source": [
    "# Data preprocessing"
   ]
  },
  {
   "cell_type": "code",
   "execution_count": 3,
   "id": "64bdcef7",
   "metadata": {},
   "outputs": [
    {
     "name": "stdout",
     "output_type": "stream",
     "text": [
      "(60000, 784)\n",
      "(10000, 784)\n"
     ]
    }
   ],
   "source": [
    "#Data normalization\n",
    "X_train = X_train.astype('float32')/255\n",
    "x_test = x_test.astype('float32')/255\n",
    "\n",
    "#Data reshaping\n",
    "X_train = X_train.reshape(len(X_train), np.prod(X_train.shape[1:]))\n",
    "x_test = x_test.reshape(len(x_test), np.prod(x_test.shape[1:]))\n",
    "\n",
    "print(X_train.shape)\n",
    "print(x_test.shape)"
   ]
  },
  {
   "cell_type": "markdown",
   "id": "ef477775",
   "metadata": {},
   "source": [
    "# Building Autoencoder "
   ]
  },
  {
   "cell_type": "code",
   "execution_count": 8,
   "id": "30935ef9",
   "metadata": {},
   "outputs": [
    {
     "name": "stdout",
     "output_type": "stream",
     "text": [
      "Model: \"model_4\"\n",
      "_________________________________________________________________\n",
      "Layer (type)                 Output Shape              Param #   \n",
      "=================================================================\n",
      "input_5 (InputLayer)         [(None, 784)]             0         \n",
      "_________________________________________________________________\n",
      "dense_20 (Dense)             (None, 128)               100480    \n",
      "_________________________________________________________________\n",
      "dense_21 (Dense)             (None, 64)                8256      \n",
      "_________________________________________________________________\n",
      "dense_22 (Dense)             (None, 32)                2080      \n",
      "_________________________________________________________________\n",
      "dense_23 (Dense)             (None, 64)                2112      \n",
      "_________________________________________________________________\n",
      "dense_24 (Dense)             (None, 128)               8320      \n",
      "_________________________________________________________________\n",
      "dense_25 (Dense)             (None, 784)               101136    \n",
      "=================================================================\n",
      "Total params: 222,384\n",
      "Trainable params: 222,384\n",
      "Non-trainable params: 0\n",
      "_________________________________________________________________\n"
     ]
    }
   ],
   "source": [
    "InputModel = Input(shape=(784))\n",
    "\n",
    "EncoderLayer = Dense(128, activation='relu')(InputModel)\n",
    "EncoderLayer1 = Dense(64, activation='relu')(EncoderLayer)\n",
    "EncoderLayer2 = Dense(32, activation='relu')(EncoderLayer1)\n",
    "\n",
    "DecoderLayer1 = Dense(64, activation='relu')(EncoderLayer2)\n",
    "DecoderLayer2 = Dense(128, activation='relu')(DecoderLayer1)\n",
    "DecoderLayer3 = Dense(784, activation='sigmoid')(DecoderLayer2)\n",
    "\n",
    "AutoEncoderModel = Model(InputModel, DecoderLayer3)\n",
    "AutoEncoderModel.summary()"
   ]
  },
  {
   "cell_type": "markdown",
   "id": "c3fc4020",
   "metadata": {},
   "source": [
    "# Train the model "
   ]
  },
  {
   "cell_type": "code",
   "execution_count": 11,
   "id": "b9bcc1f9",
   "metadata": {},
   "outputs": [
    {
     "name": "stdout",
     "output_type": "stream",
     "text": [
      "Epoch 1/5\n",
      "237/237 [==============================] - 1s 4ms/step - loss: 0.2340 - val_loss: 0.1599\n",
      "Epoch 2/5\n",
      "237/237 [==============================] - 1s 5ms/step - loss: 0.1459 - val_loss: 0.1334\n",
      "Epoch 3/5\n",
      "237/237 [==============================] - 1s 4ms/step - loss: 0.1283 - val_loss: 0.1207\n",
      "Epoch 4/5\n",
      "237/237 [==============================] - 1s 4ms/step - loss: 0.1191 - val_loss: 0.1147\n",
      "Epoch 5/5\n",
      "237/237 [==============================] - 1s 4ms/step - loss: 0.1141 - val_loss: 0.1105\n"
     ]
    }
   ],
   "source": [
    "AutoEncoderModel.compile(optimizer='adam', loss='binary_crossentropy')\n",
    "\n",
    "history = AutoEncoderModel.fit(X_train, X_train,\n",
    "                              epochs = 5,\n",
    "                              batch_size = 254,\n",
    "                              shuffle = True,\n",
    "                              validation_data = (x_test, x_test))\n",
    "\n",
    "#Make prediction to decode digits\n",
    "DecodedDigits = AutoEncoderModel.predict(x_test)"
   ]
  },
  {
   "cell_type": "markdown",
   "id": "b0bd44da",
   "metadata": {},
   "source": [
    "# Validation chart"
   ]
  },
  {
   "cell_type": "code",
   "execution_count": 31,
   "id": "069fa1b3",
   "metadata": {},
   "outputs": [
    {
     "data": {
      "text/plain": [
       "[<matplotlib.lines.Line2D at 0x1e69d9a2b20>]"
      ]
     },
     "execution_count": 31,
     "metadata": {},
     "output_type": "execute_result"
    },
    {
     "data": {
      "image/png": "[encoded data removed]",
      "text/plain": [
       "<Figure size 432x288 with 1 Axes>"
      ]
     },
     "metadata": {
      "needs_background": "light"
     },
     "output_type": "display_data"
    }
   ],
   "source": [
    "plt.title('Autoencoder Model Loss')\n",
    "plt.xlabel('Epoch')\n",
    "plt.ylabel('Loss')\n",
    "plt.plot(history.history['loss'])\n",
    "plt.plot(history.history['val_loss'])"
   ]
  },
  {
   "cell_type": "markdown",
   "id": "03d7998f",
   "metadata": {},
   "source": [
    "# Visualization"
   ]
  },
  {
   "cell_type": "code",
   "execution_count": 30,
   "id": "fa36fdfb",
   "metadata": {},
   "outputs": [
    {
     "data": {
      "image/png": "[encoded data removed]",
      "text/plain": [
       "<Figure size 1440x288 with 10 Axes>"
      ]
     },
     "metadata": {
      "needs_background": "light"
     },
     "output_type": "display_data"
    }
   ],
   "source": [
    "n = 5\n",
    "plt.figure(figsize=(20,4))\n",
    "for i in range(n):\n",
    "    ax = plt.subplot(2, n, i+1)\n",
    "    \n",
    "    #Input images\n",
    "    plt.imshow(x_test[i+10].reshape(28, 28))\n",
    "    ax = plt.subplot(2, n, i+1+n)\n",
    "    \n",
    "    #Images decoded by autoencoder\n",
    "    plt.imshow(DecodedDigits[i+10].reshape(28, 28))"
   ]
  },
  {
   "cell_type": "code",
   "execution_count": null,
   "id": "d7d61864",
   "metadata": {},
   "outputs": [],
   "source": []
  }
 ],
 "metadata": {
  "kernelspec": {
   "display_name": "Python 3",
   "language": "python",
   "name": "python3"
  },
  "language_info": {
   "codemirror_mode": {
    "name": "ipython",
    "version": 3
   },
   "file_extension": ".py",
   "mimetype": "text/x-python",
   "name": "python",
   "nbconvert_exporter": "python",
   "pygments_lexer": "ipython3",
   "version": "3.8.8"
  }
 },
 "nbformat": 4,
 "nbformat_minor": 5
}
